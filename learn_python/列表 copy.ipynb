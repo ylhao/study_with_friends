{
 "cells": [
  {
   "cell_type": "code",
   "execution_count": 2,
   "metadata": {},
   "outputs": [],
   "source": [
    "import numpy as np"
   ]
  },
  {
   "cell_type": "code",
   "execution_count": 3,
   "metadata": {},
   "outputs": [
    {
     "name": "stdout",
     "output_type": "stream",
     "text": [
      "list1: [array([5, 2]), array([3, 4]), array([5, 6])]\n",
      "list2: [array([5, 2]), array([3, 4]), array([5, 6])]\n"
     ]
    }
   ],
   "source": [
    "list1 = [np.array([1, 2]), np.array([3, 4]), np.array([5, 6])]\n",
    "list2 = list1.copy()\n",
    "list2[0][0] = 5\n",
    "print('list1:', list1)\n",
    "print('list2:', list2)"
   ]
  },
  {
   "cell_type": "code",
   "execution_count": 4,
   "metadata": {},
   "outputs": [
    {
     "name": "stdout",
     "output_type": "stream",
     "text": [
      "list1: [array([5, 2]), array([3, 4]), array([5, 6])]\n",
      "list2: [array([5, 2]), array([3, 4]), array([5, 6])]\n"
     ]
    }
   ],
   "source": [
    "list1 = [np.array([1, 2]), np.array([3, 4]), np.array([5, 6])]\n",
    "list2 = []\n",
    "for x in list1:\n",
    "    list2.append(x)\n",
    "list2[0][0] = 5\n",
    "print('list1:', list1)\n",
    "print('list2:', list2)"
   ]
  },
  {
   "cell_type": "code",
   "execution_count": 5,
   "metadata": {},
   "outputs": [
    {
     "name": "stdout",
     "output_type": "stream",
     "text": [
      "list1: [array([1, 2]), array([3, 4]), array([5, 6])]\n",
      "list2: [array([5, 2]), array([3, 4]), array([5, 6])]\n"
     ]
    }
   ],
   "source": [
    "list1 = [np.array([1, 2]), np.array([3, 4]), np.array([5, 6])]\n",
    "list2 = []\n",
    "for x in list1:\n",
    "    list2.append(x.copy())\n",
    "list2[0][0] = 5\n",
    "print('list1:', list1)\n",
    "print('list2:', list2)"
   ]
  },
  {
   "cell_type": "code",
   "execution_count": null,
   "metadata": {},
   "outputs": [],
   "source": []
  }
 ],
 "metadata": {
  "kernelspec": {
   "display_name": "Python 3",
   "language": "python",
   "name": "python3"
  },
  "language_info": {
   "codemirror_mode": {
    "name": "ipython",
    "version": 3
   },
   "file_extension": ".py",
   "mimetype": "text/x-python",
   "name": "python",
   "nbconvert_exporter": "python",
   "pygments_lexer": "ipython3",
   "version": "3.6.6"
  }
 },
 "nbformat": 4,
 "nbformat_minor": 2
}

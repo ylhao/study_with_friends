{
 "cells": [
  {
   "cell_type": "markdown",
   "metadata": {},
   "source": [
    "**直接赋值：**其实就是对象的引用（别名）。\n",
    "\n",
    "**浅拷贝(copy)：**拷贝父对象，不会拷贝对象的内部的子对象。\n",
    "\n",
    "**深拷贝(deepcopy)：** copy 模块的 deepcopy 方法，完全拷贝了父对象及其子对象。"
   ]
  },
  {
   "cell_type": "markdown",
   "metadata": {},
   "source": [
    "## 赋值"
   ]
  },
  {
   "cell_type": "code",
   "execution_count": 15,
   "metadata": {},
   "outputs": [
    {
     "name": "stdout",
     "output_type": "stream",
     "text": [
      "id(a) = 2157278573696\n",
      "id(b) = 2157278573696\n"
     ]
    }
   ],
   "source": [
    "a = {1: [1, 2, 3]}\n",
    "b = a\n",
    "print('id(a) =', id(a))\n",
    "print('id(b) =', id(b))"
   ]
  },
  {
   "cell_type": "markdown",
   "metadata": {},
   "source": [
    "## 浅拷贝"
   ]
  },
  {
   "cell_type": "code",
   "execution_count": 16,
   "metadata": {},
   "outputs": [
    {
     "name": "stdout",
     "output_type": "stream",
     "text": [
      "id(a) = 2157278604888\n",
      "id(b) = 2157278603736\n",
      "a = {1: [1, 2, 3]}\n",
      "b = {1: [1, 2, 3]}\n",
      "a = {1: [1, 2, 3, 4]}\n",
      "b = {1: [1, 2, 3, 4]}\n"
     ]
    }
   ],
   "source": [
    "a = {1: [1, 2, 3]}\n",
    "b = a.copy()\n",
    "print('id(a) =', id(a))\n",
    "print('id(b) =', id(b))\n",
    "print('a =', a)\n",
    "print('b =', b)\n",
    "a[1].append(4)\n",
    "print('a =', a)\n",
    "print('b =', b)  # b 也改变了"
   ]
  },
  {
   "cell_type": "markdown",
   "metadata": {},
   "source": [
    "## 深拷贝"
   ]
  },
  {
   "cell_type": "code",
   "execution_count": 17,
   "metadata": {
    "scrolled": true
   },
   "outputs": [
    {
     "name": "stdout",
     "output_type": "stream",
     "text": [
      "id(a) = 2157278650512\n",
      "id(b) = 2157278499824\n",
      "a = {1: [1, 2, 3]}\n",
      "b = {1: [1, 2, 3]}\n",
      "a = {1: [1, 2, 3, 4]}\n",
      "b = {1: [1, 2, 3]}\n"
     ]
    }
   ],
   "source": [
    "import copy  # 深度拷贝需要引入 copy 模块\n",
    "a = {1: [1, 2, 3]}\n",
    "b = copy.deepcopy(a)\n",
    "print('id(a) =', id(a))\n",
    "print('id(b) =', id(b))\n",
    "print('a =', a)\n",
    "print('b =', b)\n",
    "a[1].append(4)\n",
    "print('a =', a)\n",
    "print('b =', b)  # b 并没有改变"
   ]
  },
  {
   "cell_type": "markdown",
   "metadata": {},
   "source": [
    "## 补充"
   ]
  },
  {
   "cell_type": "code",
   "execution_count": 26,
   "metadata": {
    "scrolled": false
   },
   "outputs": [
    {
     "name": "stdout",
     "output_type": "stream",
     "text": [
      "id(a) = 1670081568\n",
      "id(b) = 1670081568\n",
      "a = 1\n",
      "b = 1\n",
      "id(a) = 1670081600\n",
      "id(b) = 1670081568\n",
      "a = 2\n",
      "b = 1\n"
     ]
    }
   ],
   "source": [
    "a = 1\n",
    "b = a\n",
    "print('id(a) =', id(a))\n",
    "print('id(b) =', id(b))\n",
    "print('a =', a)\n",
    "print('b =', b)\n",
    "a = 2  # 会创建一个新的“原子类型”的对象\n",
    "print('id(a) =', id(a))\n",
    "print('id(b) =', id(b))\n",
    "print('a =', a)\n",
    "print('b =', b)"
   ]
  },
  {
   "cell_type": "code",
   "execution_count": null,
   "metadata": {},
   "outputs": [],
   "source": []
  }
 ],
 "metadata": {
  "kernelspec": {
   "display_name": "Python 3",
   "language": "python",
   "name": "python3"
  },
  "language_info": {
   "codemirror_mode": {
    "name": "ipython",
    "version": 3
   },
   "file_extension": ".py",
   "mimetype": "text/x-python",
   "name": "python",
   "nbconvert_exporter": "python",
   "pygments_lexer": "ipython3",
   "version": "3.6.6"
  }
 },
 "nbformat": 4,
 "nbformat_minor": 2
}

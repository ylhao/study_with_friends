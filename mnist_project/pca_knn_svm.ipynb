{
 "cells": [
  {
   "cell_type": "code",
   "execution_count": 1,
   "metadata": {},
   "outputs": [],
   "source": [
    "# encoding: utf-8\n",
    "\n",
    "\n",
    "import os\n",
    "import numpy as np\n",
    "import pandas as pd\n",
    "from sklearn.model_selection import train_test_split\n",
    "from sklearn.svm import SVC\n",
    "from sklearn.utils import shuffle\n",
    "from sklearn.model_selection import GridSearchCV\n",
    "from sklearn.neighbors import KNeighborsClassifier\n",
    "from sklearn.decomposition import PCA\n",
    "from sklearn import metrics\n",
    "import pickle"
   ]
  },
  {
   "cell_type": "code",
   "execution_count": 2,
   "metadata": {},
   "outputs": [],
   "source": [
    "LABELS_TXT = 'digits4000_digits_labels.txt'\n",
    "VECS_TXT = 'digits4000_digits_vec.txt'\n",
    "# TESTSET_TXT = 'digits4000_testset.txt'\n",
    "# TRAINSET_TXT = 'digits4000_trainset.txt'\n",
    "VEC_LENGTH = 784\n",
    "SET_NUM = 2"
   ]
  },
  {
   "cell_type": "code",
   "execution_count": 3,
   "metadata": {},
   "outputs": [
    {
     "name": "stdout",
     "output_type": "stream",
     "text": [
      "labels_df.shape: (4000, 1)\n",
      "labels.shape: (4000,)\n"
     ]
    }
   ],
   "source": [
    "labels_df = pd.read_csv(LABELS_TXT, header=None, names=['label'])\n",
    "labels = labels_df['label']\n",
    "\n",
    "# check\n",
    "print('labels_df.shape:', labels_df.shape)\n",
    "print('labels.shape:', labels.shape)"
   ]
  },
  {
   "cell_type": "code",
   "execution_count": 4,
   "metadata": {},
   "outputs": [
    {
     "name": "stdout",
     "output_type": "stream",
     "text": [
      "vecs_df.shape: (4000, 784)\n"
     ]
    }
   ],
   "source": [
    "vecs_df = pd.read_csv(VECS_TXT, sep='\\t', header=None, names=['f_{}'.format(i) for i in range(VEC_LENGTH)])\n",
    "\n",
    "# 数据归一化\n",
    "vecs_df = vecs_df / 255.\n",
    "\n",
    "# check\n",
    "print('vecs_df.shape:', vecs_df.shape)"
   ]
  },
  {
   "cell_type": "code",
   "execution_count": 5,
   "metadata": {},
   "outputs": [],
   "source": [
    "X_train = vecs_df[0: 2000]\n",
    "y_train = labels_df['label'][0: 2000]\n",
    "X_test = vecs_df[2000: ]\n",
    "y_test = labels_df['label'][2000: ]\n",
    "X_train, y_train = shuffle(X_train, y_train)"
   ]
  },
  {
   "cell_type": "code",
   "execution_count": 6,
   "metadata": {},
   "outputs": [],
   "source": [
    "def knn_func(X_train, X_test, y_train, y_test):\n",
    "    n_neighbors_list = [1, 3, 5, 7, 9, 11]\n",
    "    for n_neighbors in n_neighbors_list:\n",
    "        clf = KNeighborsClassifier(n_neighbors=n_neighbors)\n",
    "        clf.fit(X_train, y_train)\n",
    "        y_pred = clf.predict(X_test)\n",
    "        print('n_neighbors={}: {}'.format(n_neighbors, metrics.accuracy_score(y_test, y_pred)))"
   ]
  },
  {
   "cell_type": "code",
   "execution_count": 7,
   "metadata": {},
   "outputs": [],
   "source": [
    "def svm_func(X_train, X_test, y_train, y_test):\n",
    "    \"\"\"\n",
    "    默认参数，不寻参\n",
    "    \"\"\"\n",
    "    svc = SVC()\n",
    "    svc.fit(X_train, y_train)\n",
    "    y_pred = svc.predict(X_test)\n",
    "    print('accuracy_score: {:4f}'.format(metrics.accuracy_score(y_pred, y_test)))"
   ]
  },
  {
   "cell_type": "code",
   "execution_count": 8,
   "metadata": {},
   "outputs": [],
   "source": [
    "def pca_func(X_train, X_test, n_components=20): \n",
    "    \"\"\"\n",
    "    n_components: 要降到的维度\n",
    "    \"\"\"\n",
    "    pca = PCA(n_components=n_components)\n",
    "    pca.fit(X_train)\n",
    "    X_train_pca = pca.transform(X_train)\n",
    "    X_test_pca = pca.transform(X_test)\n",
    "    \n",
    "    # check\n",
    "    print('X_train_pca shape:', X_train_pca.shape)\n",
    "    print('X_test_pca shape:', X_test_pca.shape)\n",
    "    \n",
    "    return X_train_pca, X_test_pca"
   ]
  },
  {
   "cell_type": "code",
   "execution_count": 9,
   "metadata": {},
   "outputs": [
    {
     "name": "stdout",
     "output_type": "stream",
     "text": [
      "------------------------------------------------------------\n",
      "knn:\n",
      "n_neighbors=1: 0.9135\n",
      "n_neighbors=3: 0.918\n",
      "n_neighbors=5: 0.917\n",
      "n_neighbors=7: 0.9185\n",
      "n_neighbors=9: 0.9085\n",
      "n_neighbors=11: 0.9055\n",
      "------------------------------------------------------------\n",
      "svm:\n",
      "accuracy_score: 0.894000\n",
      "------------------------------------------------------------\n",
      "pca:\n",
      "X_train_pca shape: (2000, 20)\n",
      "X_test_pca shape: (2000, 20)\n",
      "------------------------------------------------------------\n",
      "pca + knn;\n",
      "n_neighbors=1: 0.9215\n",
      "n_neighbors=3: 0.928\n",
      "n_neighbors=5: 0.9305\n",
      "n_neighbors=7: 0.9345\n",
      "n_neighbors=9: 0.9325\n",
      "n_neighbors=11: 0.9315\n",
      "------------------------------------------------------------\n",
      "pca + svm:\n",
      "accuracy_score: 0.951500\n"
     ]
    }
   ],
   "source": [
    "print('-' * 60)\n",
    "print('knn:')\n",
    "knn_func(X_train, X_test, y_train, y_test)\n",
    "print('-' * 60)\n",
    "print('svm:')\n",
    "svm_func(X_train, X_test, y_train, y_test)\n",
    "print('-' * 60)\n",
    "print('pca:')\n",
    "X_train_pca, X_test_pca = pca_func(X_train, X_test)\n",
    "print('-' * 60)\n",
    "print('pca + knn;')\n",
    "knn_func(X_train_pca, X_test_pca, y_train, y_test)\n",
    "print('-' * 60)\n",
    "print('pca + svm:')\n",
    "svm_func(X_train_pca, X_test_pca, y_train, y_test)"
   ]
  },
  {
   "cell_type": "code",
   "execution_count": null,
   "metadata": {},
   "outputs": [],
   "source": []
  }
 ],
 "metadata": {
  "kernelspec": {
   "display_name": "Python 3",
   "language": "python",
   "name": "python3"
  },
  "language_info": {
   "codemirror_mode": {
    "name": "ipython",
    "version": 3
   },
   "file_extension": ".py",
   "mimetype": "text/x-python",
   "name": "python",
   "nbconvert_exporter": "python",
   "pygments_lexer": "ipython3",
   "version": "3.6.3"
  }
 },
 "nbformat": 4,
 "nbformat_minor": 2
}

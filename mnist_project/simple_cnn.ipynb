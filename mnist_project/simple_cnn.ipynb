{
 "cells": [
  {
   "cell_type": "code",
   "execution_count": 1,
   "metadata": {},
   "outputs": [],
   "source": [
    "# encoding: utf-8\n",
    "\n",
    "\n",
    "import os\n",
    "import numpy as np\n",
    "import pandas as pd\n",
    "from sklearn.utils import shuffle\n",
    "from sklearn.decomposition import PCA\n",
    "from sklearn import metrics\n",
    "import tensorflow as tf"
   ]
  },
  {
   "cell_type": "code",
   "execution_count": 2,
   "metadata": {},
   "outputs": [],
   "source": [
    "LABELS_TXT = 'digits4000_digits_labels.txt'\n",
    "VECS_TXT = 'digits4000_digits_vec.txt'\n",
    "VEC_LENGTH = 784\n",
    "CLASS_NUM = 10\n",
    "BATCH_SIZE = 64"
   ]
  },
  {
   "cell_type": "code",
   "execution_count": 3,
   "metadata": {},
   "outputs": [
    {
     "name": "stdout",
     "output_type": "stream",
     "text": [
      "labels_df.shape: (4000, 1)\n",
      "labels.shape: (4000,)\n",
      "vecs_df.shape: (4000, 784)\n"
     ]
    }
   ],
   "source": [
    "labels_df = pd.read_csv(LABELS_TXT, header=None, names=['label'])\n",
    "labels = labels_df['label']\n",
    "vecs_df = pd.read_csv(VECS_TXT, sep='\\t', header=None, names=['f_{}'.format(i) for i in range(VEC_LENGTH)])\n",
    "vecs_df = vecs_df / 255.\n",
    "\n",
    "# check\n",
    "print('labels_df.shape:', labels_df.shape)\n",
    "print('labels.shape:', labels.shape)\n",
    "print('vecs_df.shape:', vecs_df.shape)"
   ]
  },
  {
   "cell_type": "code",
   "execution_count": 4,
   "metadata": {},
   "outputs": [],
   "source": [
    "def to_one_hot(y_, class_num):\n",
    "    label_num = y_.shape[0]\n",
    "    one_hot_vecs = np.zeros((label_num, class_num))\n",
    "    for i in range(label_num):\n",
    "        one_hot_vecs[i][y_[i]] = 1\n",
    "    return one_hot_vecs"
   ]
  },
  {
   "cell_type": "code",
   "execution_count": 5,
   "metadata": {},
   "outputs": [
    {
     "name": "stdout",
     "output_type": "stream",
     "text": [
      "X_train type: <class 'pandas.core.frame.DataFrame'>\n",
      "X_test type: <class 'pandas.core.frame.DataFrame'>\n",
      "X_train shape: (2000, 784)\n",
      "X_test shape: (2000, 784)\n",
      "y_train type: <class 'numpy.ndarray'>\n",
      "y_test type: <class 'numpy.ndarray'>\n",
      "y_train shape: (2000, 10)\n",
      "y_test shape: (2000, 10)\n"
     ]
    }
   ],
   "source": [
    "X_train = vecs_df[0: 2000]\n",
    "y_train = labels_df['label'][0: 2000]\n",
    "X_test = vecs_df[2000: ]\n",
    "y_test = labels_df['label'][2000: ]\n",
    "\n",
    "# 乱序\n",
    "X_train, y_train = shuffle(X_train, y_train)\n",
    "\n",
    "# 重新索引\n",
    "X_train = X_train.reset_index(drop=True)\n",
    "y_train = y_train.reset_index(drop=True)\n",
    "X_test = X_test.reset_index(drop=True)\n",
    "y_test = y_test.reset_index(drop=True)\n",
    "\n",
    "# check\n",
    "# print('y_train:', y_train)\n",
    "\n",
    "# 转 one-hot 向量\n",
    "y_train = to_one_hot(y_train, CLASS_NUM)\n",
    "y_test = to_one_hot(y_test, CLASS_NUM)\n",
    "\n",
    "# check\n",
    "# for x in y_train:\n",
    "#     print(x)\n",
    "    \n",
    "# for x in y_test:\n",
    "#     print(x)\n",
    "\n",
    "# check\n",
    "print('X_train type:', type(X_train))\n",
    "print('X_test type:', type(X_test))\n",
    "print('X_train shape:', X_train.shape)\n",
    "print('X_test shape:', X_test.shape)\n",
    "print('y_train type:', type(y_train))\n",
    "print('y_test type:', type(y_test))\n",
    "print('y_train shape:', y_train.shape)\n",
    "print('y_test shape:', y_test.shape)"
   ]
  },
  {
   "cell_type": "code",
   "execution_count": 6,
   "metadata": {},
   "outputs": [],
   "source": [
    "start_idx = 0\n",
    "def next_batch(batch_size=BATCH_SIZE):\n",
    "    global start_idx\n",
    "    idx = start_idx\n",
    "    if idx + batch_size > X_train.shape[0]:\n",
    "        start_idx = 0\n",
    "        return X_train[idx: ], y_train[idx: ]\n",
    "    else:\n",
    "        start_idx += batch_size\n",
    "        return X_train[idx: idx + batch_size], y_train[idx: idx + batch_size]"
   ]
  },
  {
   "cell_type": "code",
   "execution_count": 7,
   "metadata": {},
   "outputs": [
    {
     "name": "stdout",
     "output_type": "stream",
     "text": [
      "step 0, training accuracy 0.125000\n",
      "step 100, training accuracy 0.859375\n",
      "step 200, training accuracy 0.937500\n",
      "step 300, training accuracy 0.953125\n",
      "step 400, training accuracy 0.968750\n",
      "step 500, training accuracy 0.937500\n",
      "step 600, training accuracy 1.000000\n",
      "step 700, training accuracy 1.000000\n",
      "step 800, training accuracy 0.984375\n",
      "step 900, training accuracy 1.000000\n",
      "step 1000, training accuracy 1.000000\n",
      "step 1100, training accuracy 1.000000\n",
      "step 1200, training accuracy 1.000000\n",
      "step 1300, training accuracy 1.000000\n",
      "step 1400, training accuracy 1.000000\n",
      "step 1500, training accuracy 1.000000\n",
      "step 1600, training accuracy 1.000000\n",
      "step 1700, training accuracy 1.000000\n",
      "step 1800, training accuracy 1.000000\n",
      "step 1900, training accuracy 1.000000\n",
      "step 2000, training accuracy 1.000000\n",
      "step 2100, training accuracy 1.000000\n",
      "step 2200, training accuracy 1.000000\n",
      "step 2300, training accuracy 1.000000\n",
      "step 2400, training accuracy 1.000000\n",
      "step 2500, training accuracy 1.000000\n",
      "step 2600, training accuracy 1.000000\n",
      "step 2700, training accuracy 1.000000\n",
      "step 2800, training accuracy 1.000000\n",
      "step 2900, training accuracy 1.000000\n",
      "test accuracy 0.964000\n"
     ]
    }
   ],
   "source": [
    "sess = tf.InteractiveSession()\n",
    "\n",
    "x = tf.placeholder(tf.float32, [None, 784])\n",
    "y_ = tf.placeholder(tf.float32, [None, 10])\n",
    "keep_prob = tf.placeholder(tf.float32)\n",
    "x_image = tf.reshape(x, [-1, 28, 28, 1])\n",
    "\n",
    "def weight_variable(shape):\n",
    "    initial = tf.truncated_normal(shape, stddev=0.1)\n",
    "    return tf.Variable(initial)\n",
    "\n",
    "def bias_variable(shape):\n",
    "    initial = tf.constant(0.1, shape=shape)\n",
    "    return tf.Variable(initial)\n",
    "\n",
    "def conv2d(x, W):\n",
    "    return tf.nn.conv2d(x, W, strides=[1, 1, 1, 1], padding='SAME')\n",
    "\n",
    "def max_pool_2x2(x):\n",
    "    return tf.nn.max_pool(x, ksize=[1, 2, 2, 1], strides=[1, 2, 2, 1], padding='SAME')\n",
    "\n",
    "W_conv1 = weight_variable([5, 5, 1, 32])\n",
    "b_conv1 = bias_variable([32])\n",
    "h_conv1 = tf.nn.relu(conv2d(x_image, W_conv1) + b_conv1)\n",
    "h_pool1 = max_pool_2x2(h_conv1)\n",
    "W_conv2 = weight_variable([5, 5, 32, 64])\n",
    "b_conv2 = bias_variable([64])\n",
    "h_conv2 = tf.nn.relu(conv2d(h_pool1, W_conv2) + b_conv2)\n",
    "h_pool2 = max_pool_2x2(h_conv2)\n",
    "h_pool2_flat = tf.reshape(h_pool2, [-1, 7 * 7 * 64])\n",
    "W_fc1 = weight_variable([7 * 7 * 64, 1024])\n",
    "b_fc1 = bias_variable([1024])\n",
    "h_fc1 = tf.nn.relu(tf.matmul(h_pool2_flat, W_fc1) + b_fc1)\n",
    "h_fc1_drop = tf.nn.dropout(h_fc1, keep_prob)\n",
    "W_fc2 = weight_variable([1024, 10])\n",
    "b_fc2 = bias_variable([10])\n",
    "y = tf.nn.softmax(tf.matmul(h_fc1_drop, W_fc2) + b_fc2)\n",
    "cross_entropy = tf.reduce_mean(-tf.reduce_sum(y_ * tf.log(y), reduction_indices=[1]))\n",
    "train_step = tf.train.AdamOptimizer(1e-4).minimize(cross_entropy)\n",
    "correct_prediction = tf.equal(tf.argmax(y, 1), tf.argmax(y_, 1))\n",
    "accuracy = tf.reduce_mean(tf.cast(correct_prediction, tf.float32))\n",
    "\n",
    "tf.global_variables_initializer().run()\n",
    "\n",
    "for i in range(3000):\n",
    "    \n",
    "    batch_xs, batch_ys = next_batch(64)\n",
    "    \n",
    "    if i % 100 == 0:\n",
    "        train_accuracy = accuracy.eval(feed_dict={x: batch_xs, y_: batch_ys, keep_prob: 1.0})\n",
    "        print('step {}, training accuracy {:4f}'.format(i, train_accuracy))\n",
    "    \n",
    "    train_step.run(feed_dict={x: batch_xs, y_: batch_ys, keep_prob: 0.5})\n",
    "print('test accuracy {:4f}'.format(accuracy.eval(feed_dict={x: X_test, y_: y_test, keep_prob: 1.0})))\n"
   ]
  },
  {
   "cell_type": "code",
   "execution_count": null,
   "metadata": {},
   "outputs": [],
   "source": []
  }
 ],
 "metadata": {
  "kernelspec": {
   "display_name": "Python 3",
   "language": "python",
   "name": "python3"
  },
  "language_info": {
   "codemirror_mode": {
    "name": "ipython",
    "version": 3
   },
   "file_extension": ".py",
   "mimetype": "text/x-python",
   "name": "python",
   "nbconvert_exporter": "python",
   "pygments_lexer": "ipython3",
   "version": "3.6.3"
  }
 },
 "nbformat": 4,
 "nbformat_minor": 2
}

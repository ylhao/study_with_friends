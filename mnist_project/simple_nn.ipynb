{
 "cells": [
  {
   "cell_type": "code",
   "execution_count": 1,
   "metadata": {},
   "outputs": [
    {
     "name": "stderr",
     "output_type": "stream",
     "text": [
      "c:\\python36\\lib\\site-packages\\h5py\\__init__.py:36: FutureWarning: Conversion of the second argument of issubdtype from `float` to `np.floating` is deprecated. In future, it will be treated as `np.float64 == np.dtype(float).type`.\n",
      "  from ._conv import register_converters as _register_converters\n"
     ]
    }
   ],
   "source": [
    "# encoding: utf-8\n",
    "\n",
    "\n",
    "import os\n",
    "import numpy as np\n",
    "import pandas as pd\n",
    "from sklearn.utils import shuffle\n",
    "from sklearn.decomposition import PCA\n",
    "from sklearn import metrics\n",
    "import tensorflow as tf"
   ]
  },
  {
   "cell_type": "code",
   "execution_count": 2,
   "metadata": {},
   "outputs": [],
   "source": [
    "LABELS_TXT = 'digits4000_digits_labels.txt'\n",
    "VECS_TXT = 'digits4000_digits_vec.txt'\n",
    "VEC_LENGTH = 784\n",
    "CLASS_NUM = 10\n",
    "BATCH_SIZE = 64"
   ]
  },
  {
   "cell_type": "code",
   "execution_count": 3,
   "metadata": {},
   "outputs": [
    {
     "name": "stdout",
     "output_type": "stream",
     "text": [
      "labels_df.shape: (4000, 1)\n",
      "labels.shape: (4000,)\n",
      "vecs_df.shape: (4000, 784)\n"
     ]
    }
   ],
   "source": [
    "labels_df = pd.read_csv(LABELS_TXT, header=None, names=['label'])\n",
    "labels = labels_df['label']\n",
    "vecs_df = pd.read_csv(VECS_TXT, sep='\\t', header=None, names=['f_{}'.format(i) for i in range(VEC_LENGTH)])\n",
    "vecs_df = vecs_df / 255.\n",
    "\n",
    "# check\n",
    "print('labels_df.shape:', labels_df.shape)\n",
    "print('labels.shape:', labels.shape)\n",
    "print('vecs_df.shape:', vecs_df.shape)"
   ]
  },
  {
   "cell_type": "code",
   "execution_count": 10,
   "metadata": {},
   "outputs": [],
   "source": [
    "def to_one_hot(y_, class_num):\n",
    "    label_num = y_.shape[0]\n",
    "    one_hot_vecs = np.zeros((label_num, class_num))\n",
    "    for i in range(label_num):\n",
    "        one_hot_vecs[i][y_[i]] = 1\n",
    "    return one_hot_vecs"
   ]
  },
  {
   "cell_type": "code",
   "execution_count": 13,
   "metadata": {
    "scrolled": true
   },
   "outputs": [
    {
     "name": "stdout",
     "output_type": "stream",
     "text": [
      "X_train type: <class 'pandas.core.frame.DataFrame'>\n",
      "X_test type: <class 'pandas.core.frame.DataFrame'>\n",
      "X_train shape: (2000, 784)\n",
      "X_test shape: (2000, 784)\n",
      "y_train type: <class 'numpy.ndarray'>\n",
      "y_test type: <class 'numpy.ndarray'>\n",
      "y_train shape: (2000, 10)\n",
      "y_test shape: (2000, 10)\n"
     ]
    }
   ],
   "source": [
    "X_train = vecs_df[0: 2000]\n",
    "y_train = labels_df['label'][0: 2000]\n",
    "X_test = vecs_df[2000: ]\n",
    "y_test = labels_df['label'][2000: ]\n",
    "\n",
    "# 乱序\n",
    "X_train, y_train = shuffle(X_train, y_train)\n",
    "\n",
    "# 重新索引\n",
    "X_train = X_train.reset_index(drop=True)\n",
    "y_train = y_train.reset_index(drop=True)\n",
    "X_test = X_test.reset_index(drop=True)\n",
    "y_test = y_test.reset_index(drop=True)\n",
    "\n",
    "# check\n",
    "# print('y_train:', y_train)\n",
    "\n",
    "# 转 one-hot 向量\n",
    "y_train = to_one_hot(y_train, CLASS_NUM)\n",
    "y_test = to_one_hot(y_test, CLASS_NUM)\n",
    "\n",
    "# check\n",
    "# for x in y_train:\n",
    "#     print(x)\n",
    "    \n",
    "# for x in y_test:\n",
    "#     print(x)\n",
    "\n",
    "# check\n",
    "print('X_train type:', type(X_train))\n",
    "print('X_test type:', type(X_test))\n",
    "print('X_train shape:', X_train.shape)\n",
    "print('X_test shape:', X_test.shape)\n",
    "print('y_train type:', type(y_train))\n",
    "print('y_test type:', type(y_test))\n",
    "print('y_train shape:', y_train.shape)\n",
    "print('y_test shape:', y_test.shape)"
   ]
  },
  {
   "cell_type": "code",
   "execution_count": 14,
   "metadata": {},
   "outputs": [],
   "source": [
    "start_idx = 0\n",
    "def next_batch(batch_size=BATCH_SIZE):\n",
    "    global start_idx\n",
    "    idx = start_idx\n",
    "    if idx + batch_size > X_train.shape[0]:\n",
    "        start_idx = 0\n",
    "        return X_train[idx: ], y_train[idx: ]\n",
    "    else:\n",
    "        start_idx += batch_size\n",
    "        return X_train[idx: idx + batch_size], y_train[idx: idx + batch_size]"
   ]
  },
  {
   "cell_type": "code",
   "execution_count": 22,
   "metadata": {},
   "outputs": [
    {
     "name": "stdout",
     "output_type": "stream",
     "text": [
      "step=100, test accuracy=0.917500\n",
      "step=200, test accuracy=0.924500\n",
      "step=300, test accuracy=0.935500\n",
      "step=400, test accuracy=0.933000\n",
      "step=500, test accuracy=0.938000\n",
      "step=600, test accuracy=0.935500\n",
      "step=700, test accuracy=0.933500\n",
      "step=800, test accuracy=0.939500\n",
      "step=900, test accuracy=0.936000\n",
      "step=1000, test accuracy=0.938000\n",
      "step=1100, test accuracy=0.939500\n",
      "step=1200, test accuracy=0.937500\n",
      "step=1300, test accuracy=0.938000\n",
      "step=1400, test accuracy=0.940000\n",
      "step=1500, test accuracy=0.933000\n",
      "step=1600, test accuracy=0.939000\n",
      "step=1700, test accuracy=0.938500\n",
      "step=1800, test accuracy=0.938500\n",
      "step=1900, test accuracy=0.935500\n",
      "step=2000, test accuracy=0.937000\n",
      "step=2100, test accuracy=0.936000\n",
      "step=2200, test accuracy=0.937500\n",
      "step=2300, test accuracy=0.938000\n",
      "step=2400, test accuracy=0.937500\n",
      "step=2500, test accuracy=0.939000\n",
      "step=2600, test accuracy=0.938500\n",
      "step=2700, test accuracy=0.938500\n",
      "step=2800, test accuracy=0.940000\n",
      "step=2900, test accuracy=0.938500\n",
      "step=3000, test accuracy=0.937500\n",
      "step=3100, test accuracy=0.942500\n",
      "step=3200, test accuracy=0.938500\n",
      "step=3300, test accuracy=0.939500\n",
      "step=3400, test accuracy=0.943000\n",
      "step=3500, test accuracy=0.941000\n",
      "step=3600, test accuracy=0.940000\n",
      "step=3700, test accuracy=0.938500\n",
      "step=3800, test accuracy=0.941500\n",
      "step=3900, test accuracy=0.940500\n",
      "step=4000, test accuracy=0.940000\n",
      "step=4100, test accuracy=0.940500\n",
      "step=4200, test accuracy=0.939500\n",
      "step=4300, test accuracy=0.940000\n",
      "step=4400, test accuracy=0.938500\n",
      "step=4500, test accuracy=0.937000\n",
      "step=4600, test accuracy=0.940500\n",
      "step=4700, test accuracy=0.938500\n",
      "step=4800, test accuracy=0.939500\n",
      "step=4900, test accuracy=0.939000\n"
     ]
    }
   ],
   "source": [
    "sess = tf.InteractiveSession()\n",
    "\n",
    "x = tf.placeholder(tf.float32, [None, 784])\n",
    "y_ = tf.placeholder(tf.float32, [None, 10])\n",
    "keep_prob = tf.placeholder(tf.float32)\n",
    "\n",
    "W1 = tf.Variable(tf.truncated_normal([784, 500], stddev=0.1))\n",
    "b1 = tf.Variable(tf.zeros([500]))\n",
    "W2 = tf.Variable(tf.zeros([500, 10]))\n",
    "b2 = tf.Variable(tf.zeros([10]))\n",
    "\n",
    "hidden = tf.nn.relu(tf.matmul(x, W1) + b1)\n",
    "hidden_drop = tf.nn.dropout(hidden, keep_prob)\n",
    "y = tf.nn.softmax(tf.matmul(hidden_drop, W2) + b2)\n",
    "\n",
    "# 计算交叉熵\n",
    "cross_entropy = tf.reduce_mean(-tf.reduce_sum(y_ * tf.log(y), reduction_indices=[1]))\n",
    "\n",
    "train_step = tf.train.AdagradOptimizer(0.3).minimize(cross_entropy)\n",
    "tf.global_variables_initializer().run()\n",
    "\n",
    "for i in range(0, 5000):\n",
    "    batch_xs, batch_ys = next_batch(64)\n",
    "    train_step.run({x: batch_xs, y_: batch_ys, keep_prob: 0.75})\n",
    "    if i % 100 == 0 and i != 0:\n",
    "        correct_prediction = tf.equal(tf.argmax(y, 1), tf.argmax(y_, 1))\n",
    "        accuracy = tf.reduce_mean(tf.cast(correct_prediction, tf.float32))\n",
    "        print('step={}, test accuracy={:4f}'.format(i, accuracy.eval({x: X_test, y_: y_test, keep_prob: 1.0})))\n",
    "        \n",
    "sess.close()"
   ]
  },
  {
   "cell_type": "code",
   "execution_count": null,
   "metadata": {},
   "outputs": [],
   "source": []
  }
 ],
 "metadata": {
  "kernelspec": {
   "display_name": "Python 3",
   "language": "python",
   "name": "python3"
  },
  "language_info": {
   "codemirror_mode": {
    "name": "ipython",
    "version": 3
   },
   "file_extension": ".py",
   "mimetype": "text/x-python",
   "name": "python",
   "nbconvert_exporter": "python",
   "pygments_lexer": "ipython3",
   "version": "3.6.3"
  }
 },
 "nbformat": 4,
 "nbformat_minor": 2
}

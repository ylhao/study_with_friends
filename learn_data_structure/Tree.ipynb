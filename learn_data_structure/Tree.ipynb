{
 "cells": [
  {
   "cell_type": "code",
   "execution_count": 1,
   "metadata": {},
   "outputs": [],
   "source": [
    "class TreeNode:\n",
    "    def __init__(self, x):\n",
    "        self.val = x\n",
    "        self.left = None\n",
    "        self.right = None"
   ]
  },
  {
   "cell_type": "code",
   "execution_count": 2,
   "metadata": {},
   "outputs": [],
   "source": [
    "one = TreeNode(1)\n",
    "two = TreeNode(2)\n",
    "three = TreeNode(3)\n",
    "four = TreeNode(4)\n",
    "five = TreeNode(5)\n",
    "\n",
    "one.left = two\n",
    "one.right = three\n",
    "two.left = four\n",
    "two.right = five\n",
    "root = one"
   ]
  },
  {
   "cell_type": "code",
   "execution_count": 3,
   "metadata": {},
   "outputs": [],
   "source": [
    "# 深度\n",
    "def maxDepth(root):\n",
    "        \"\"\"\n",
    "        :type root: TreeNode\n",
    "        :rtype: int\n",
    "        \"\"\"\n",
    "        if root is None:\n",
    "            return 0\n",
    "        return max(maxDepth(root.left), maxDepth(root.right)) + 1"
   ]
  },
  {
   "cell_type": "code",
   "execution_count": 4,
   "metadata": {},
   "outputs": [
    {
     "data": {
      "text/plain": [
       "3"
      ]
     },
     "execution_count": 4,
     "metadata": {},
     "output_type": "execute_result"
    }
   ],
   "source": [
    "maxDepth(root)"
   ]
  },
  {
   "cell_type": "code",
   "execution_count": 5,
   "metadata": {},
   "outputs": [],
   "source": [
    "# 前序\n",
    "def pretravel(root):\n",
    "    if root is None:\n",
    "        return\n",
    "    print(root.val)\n",
    "    pretravel(root.left)\n",
    "    pretravel(root.right)     "
   ]
  },
  {
   "cell_type": "code",
   "execution_count": 6,
   "metadata": {},
   "outputs": [],
   "source": [
    "# 中序\n",
    "def midtravel(root):\n",
    "    if root == None:\n",
    "        return\n",
    "    midtravel(root.left)\n",
    "    print(root.val)\n",
    "    midtravel(root.right) "
   ]
  },
  {
   "cell_type": "code",
   "execution_count": 7,
   "metadata": {},
   "outputs": [],
   "source": [
    "# 后序\n",
    "def aftertravel(root):\n",
    "    if root == None:\n",
    "        return\n",
    "    aftertravel(root.left)\n",
    "    aftertravel(root.right)\n",
    "    print(root.val) "
   ]
  },
  {
   "cell_type": "code",
   "execution_count": 8,
   "metadata": {},
   "outputs": [
    {
     "name": "stdout",
     "output_type": "stream",
     "text": [
      "4\n",
      "5\n",
      "2\n",
      "3\n",
      "1\n"
     ]
    }
   ],
   "source": [
    "aftertravel(root)"
   ]
  },
  {
   "cell_type": "code",
   "execution_count": 9,
   "metadata": {},
   "outputs": [
    {
     "name": "stdout",
     "output_type": "stream",
     "text": [
      "4\n",
      "2\n",
      "5\n",
      "1\n",
      "3\n"
     ]
    }
   ],
   "source": [
    "midtravel(root)"
   ]
  },
  {
   "cell_type": "code",
   "execution_count": 10,
   "metadata": {},
   "outputs": [
    {
     "name": "stdout",
     "output_type": "stream",
     "text": [
      "1\n",
      "2\n",
      "4\n",
      "5\n",
      "3\n"
     ]
    }
   ],
   "source": [
    "pretravel(root)"
   ]
  },
  {
   "cell_type": "code",
   "execution_count": 11,
   "metadata": {},
   "outputs": [],
   "source": [
    "# 节点和\n",
    "def sumNode(root):\n",
    "    if root == None:\n",
    "        return 0\n",
    "    leftnums = sumNode(root.left)\n",
    "    rightnums = sumNode(root.right)\n",
    "    return leftnums + rightnums + 1  "
   ]
  },
  {
   "cell_type": "code",
   "execution_count": 12,
   "metadata": {},
   "outputs": [],
   "source": [
    "# 节点和\n",
    "def sumNode(root):\n",
    "    if root == None:\n",
    "        return 0\n",
    "    return sumNode(root.left) + sumNode(root.right) + root.val\n",
    "#     leftnums = sumNode(root.left)\n",
    "#     rightnums = sumNode(root.right)\n",
    "#     return leftnums + rightnums + 1"
   ]
  },
  {
   "cell_type": "code",
   "execution_count": 13,
   "metadata": {},
   "outputs": [
    {
     "data": {
      "text/plain": [
       "15"
      ]
     },
     "execution_count": 13,
     "metadata": {},
     "output_type": "execute_result"
    }
   ],
   "source": [
    "sumNode(root)"
   ]
  },
  {
   "cell_type": "code",
   "execution_count": 14,
   "metadata": {},
   "outputs": [],
   "source": [
    "# 层次\n",
    "def leveltravel(root):\n",
    "    queue = []\n",
    "    if root:\n",
    "        queue.append(root)\n",
    "    while len(queue) != 0:\n",
    "        nodeTemp = queue[0]\n",
    "        print(nodeTemp.val)\n",
    "        if nodeTemp.left:\n",
    "            queue.append(nodeTemp.left)\n",
    "        if nodeTemp.right:\n",
    "            queue.append(nodeTemp.right)\n",
    "        queue.pop(0)"
   ]
  },
  {
   "cell_type": "code",
   "execution_count": 15,
   "metadata": {},
   "outputs": [
    {
     "name": "stdout",
     "output_type": "stream",
     "text": [
      "1\n",
      "2\n",
      "3\n",
      "4\n",
      "5\n"
     ]
    }
   ],
   "source": [
    "leveltravel(root)"
   ]
  },
  {
   "cell_type": "code",
   "execution_count": null,
   "metadata": {},
   "outputs": [],
   "source": []
  }
 ],
 "metadata": {
  "anaconda-cloud": {},
  "kernelspec": {
   "display_name": "Python 3",
   "language": "python",
   "name": "python3"
  },
  "language_info": {
   "codemirror_mode": {
    "name": "ipython",
    "version": 3
   },
   "file_extension": ".py",
   "mimetype": "text/x-python",
   "name": "python",
   "nbconvert_exporter": "python",
   "pygments_lexer": "ipython3",
   "version": "3.6.3"
  }
 },
 "nbformat": 4,
 "nbformat_minor": 2
}

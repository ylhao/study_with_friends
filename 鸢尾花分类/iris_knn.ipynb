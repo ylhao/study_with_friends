{
 "cells": [
  {
   "cell_type": "code",
   "execution_count": 1,
   "metadata": {},
   "outputs": [],
   "source": [
    "# coding: utf-8"
   ]
  },
  {
   "cell_type": "code",
   "execution_count": 1,
   "metadata": {
    "scrolled": true
   },
   "outputs": [],
   "source": [
    "# 模块导入\n",
    "import numpy as np\n",
    "import matplotlib as plt  # 画图\n",
    "from sklearn import datasets  # 导入 sklearn 中的数据集\n",
    "from sklearn.model_selection import train_test_split\n",
    "from sklearn.neighbors import KNeighborsClassifier  # 导入 KNeighborClassfier 分类器\n",
    "from sklearn.preprocessing import MinMaxScaler"
   ]
  },
  {
   "cell_type": "code",
   "execution_count": 2,
   "metadata": {},
   "outputs": [],
   "source": [
    "# 数据加载与处理\n",
    "iris = datasets.load_iris() # 下载数据\n",
    "iris_X = iris.data\n",
    "iris_y = iris.target # 下载标签\n",
    "X_train, X_test, y_train, y_test = train_test_split(iris_X, iris_y, test_size=0.3)  # 训练数据 70%，测试数据 30%\n",
    "\n",
    "# check\n",
    "# print(iris_X.shape) # 返回（行，列）\n",
    "# print(iris_y.shape)\n",
    "# print(iris_X)\n",
    "# print(iris_y)"
   ]
  },
  {
   "cell_type": "code",
   "execution_count": 3,
   "metadata": {},
   "outputs": [],
   "source": [
    "# 预处理的一种方式\n",
    "# scaler = MinMaxScaler()\n",
    "# scaler.fit(iris_X)\n",
    "# iris_X_scale = scaler.transform(iris_X)\n",
    "# X_train, X_test, y_train, y_test = train_test_split(iris_X_scale, iris_y, test_size=0.3)  # 训练数据 70%，测试数据 30%"
   ]
  },
  {
   "cell_type": "code",
   "execution_count": 22,
   "metadata": {},
   "outputs": [
    {
     "data": {
      "text/plain": [
       "KNeighborsClassifier(algorithm='auto', leaf_size=30, metric='minkowski',\n",
       "           metric_params=None, n_jobs=None, n_neighbors=5, p=2,\n",
       "           weights='uniform')"
      ]
     },
     "execution_count": 22,
     "metadata": {},
     "output_type": "execute_result"
    }
   ],
   "source": [
    "##### 定义模型\n",
    "knn = KNeighborsClassifier(n_neighbors=5)  # 定义分类器对象\n",
    "knn.fit(X_train,y_train)  # 导入训练数据进行训练"
   ]
  },
  {
   "cell_type": "code",
   "execution_count": 24,
   "metadata": {},
   "outputs": [
    {
     "name": "stdout",
     "output_type": "stream",
     "text": [
      "[0 0 0 2 0 1 2 2 2 2 0 0 2 2 2 0 1 1 1 0 0 0 1 2 1 1 0 1 2 1 1 0 2 2 2 2 1\n",
      " 1 1 1 2 2 2 0 2]\n",
      "0.9777777777777777\n"
     ]
    }
   ],
   "source": [
    "# 预测\n",
    "print(knn.predict(X_test)) # 使用 kmm.predict() 函数调用训练模型预测数据\n",
    "score = knn.score(X_test, y_test) # score 计算准确率\n",
    "print(score)"
   ]
  },
  {
   "cell_type": "code",
   "execution_count": null,
   "metadata": {},
   "outputs": [],
   "source": []
  }
 ],
 "metadata": {
  "kernelspec": {
   "display_name": "Python 3",
   "language": "python",
   "name": "python3"
  },
  "language_info": {
   "codemirror_mode": {
    "name": "ipython",
    "version": 3
   },
   "file_extension": ".py",
   "mimetype": "text/x-python",
   "name": "python",
   "nbconvert_exporter": "python",
   "pygments_lexer": "ipython3",
   "version": "3.6.6"
  }
 },
 "nbformat": 4,
 "nbformat_minor": 1
}
